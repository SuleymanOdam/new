{
 "cells": [
  {
   "cell_type": "code",
   "execution_count": 5,
   "id": "773aa7e7",
   "metadata": {},
   "outputs": [
    {
     "name": "stdout",
     "output_type": "stream",
     "text": [
      "What is your name?Anya\n",
      "Hello,Anya!\n",
      "How are you ?Good\n",
      "I am happy for you!\n"
     ]
    }
   ],
   "source": [
    "name = input(\"What is your name?\")\n",
    "print(f\"Hello,{name}!\")\n",
    "work = input(\"How are you ?\")\n",
    "if work == \"Good\" :\n",
    "    print(f\"I am happy for you!\")\n",
    "elif work ==\"Bad\" :\n",
    "    print(f\"Everyrthing will be fine!\")"
   ]
  },
  {
   "cell_type": "code",
   "execution_count": 8,
   "id": "75956a6f",
   "metadata": {},
   "outputs": [
    {
     "name": "stdout",
     "output_type": "stream",
     "text": [
      "Enter your number:5\n",
      "Enter your number:7\n",
      "Enter your number:10\n",
      "Выиграл:Толя\n"
     ]
    }
   ],
   "source": [
    "speed_petya = int(input(\"Enter your number:\"))\n",
    "speed_vasya = int(input(\"Enter your number:\"))\n",
    "speed_tolya = int(input(\"Enter your number:\"))\n",
    "if speed_petya<speed_vasya>speed_tolya:\n",
    "    print(\" Выиграл:\",\"Вася\",sep=\"\")\n",
    "elif speed_tolya<speed_petya>speed_vasya:\n",
    "    print(\"Выиграл :\",\"Петя\",sep=\"\")\n",
    "elif speed_vasya<speed_tolya>speed_petya:\n",
    "    print(\"Выиграл:\",\"Толя\",sep=\"\")\n"
   ]
  },
  {
   "cell_type": "code",
   "execution_count": 11,
   "id": "acccda8c",
   "metadata": {},
   "outputs": [
    {
     "name": "stdout",
     "output_type": "stream",
     "text": [
      "Дима дал Пете:10 \n",
      "Дима дал Васе :3\n",
      "Won Petya\n"
     ]
    }
   ],
   "source": [
    "n = int(input(\"Дима дал Пете:\"))\n",
    "m = int(input(\"Дима дал Васе :\"))\n",
    "apple_1 = 7 - 3 + 2 + n\n",
    "apple_2 = 6 + 3 + 5 - 2 + m\n",
    "if apple_1 > apple_2 :\n",
    "    print(f\"Won Petya\")\n",
    "else:\n",
    "    print(f\"Won Vasya\")"
   ]
  },
  {
   "cell_type": "code",
   "execution_count": 25,
   "id": "8ad139de",
   "metadata": {},
   "outputs": [
    {
     "name": "stdout",
     "output_type": "stream",
     "text": [
      "Enter your number:1\n",
      "Enter your number:2\n",
      "Enter your number:3\n",
      "53\n"
     ]
    }
   ],
   "source": [
    "a = int(input(\"Enter your number:\"))\n",
    "b = int(input(\"Enter your number:\"))\n",
    "c = int(input(\"Enter your number:\"))\n",
    "if b <= a <c :\n",
    "    d = a + c\n",
    "    e = a + b \n",
    "    print(f\"{d}{e}\")\n",
    "elif a <= b <c:\n",
    "    g = b + c \n",
    "    h = a + b\n",
    "    print(f\"{g}{h}\")\n",
    "elif c <= b <a:\n",
    "    i = b + a\n",
    "    j = c + b\n",
    "    print(f\"{i}{j}\")"
   ]
  },
  {
   "cell_type": "code",
   "execution_count": 39,
   "id": "fe96468f",
   "metadata": {},
   "outputs": [
    {
     "name": "stdout",
     "output_type": "stream",
     "text": [
      "Enter your number:787\n",
      "77, 87\n"
     ]
    }
   ],
   "source": [
    "n = str(input(\"Enter your number:\"))\n",
    "a = int(n[0])\n",
    "b = int(n[1])\n",
    "c = int(n[2])\n",
    "if a <= b < c:\n",
    "    print(f\"{a}{b}, {c}{b}\")\n",
    "elif b == 0:\n",
    "    print(f'{a}{b}, {c}{a}')\n",
    "elif b <= a < c:\n",
    "    print(f'{b}{a}, {c}{a}')\n",
    "elif c <= a <b :\n",
    "    print(f'{c}{a}, {b}{a}')"
   ]
  },
  {
   "cell_type": "code",
   "execution_count": 42,
   "id": "4580017f",
   "metadata": {},
   "outputs": [
    {
     "name": "stdout",
     "output_type": "stream",
     "text": [
      "3.5\n",
      "-2.4\n",
      "-7.3\n",
      "-1.14 1.83\n"
     ]
    }
   ],
   "source": [
    "\n",
    "a = float(input())\n",
    "b = float(input())\n",
    "c = float(input())\n",
    "\n",
    "\n",
    "if a == 0 and b == 0 and c == 0:\n",
    "    print('Infinite solutions')\n",
    "elif a == 0 and b == 0:\n",
    "    print('No solution')\n",
    "else:\n",
    "\n",
    "    if a == 0:\n",
    "        x = -c / b\n",
    "        print(\"{:.2f}\".format(round(x, 2)))\n",
    "\n",
    "\n",
    "    if b == 0 and c == 0:\n",
    "        print(\"{:.2f}\".format(round(0, 2)))\n",
    "\n",
    "    if a != 0 and b == 0 and c != 0:  # x² = - c/а\n",
    "        if ((- c) / a) < 0:\n",
    "            print('No solution')  # нет решений\n",
    "        elif ((-c) / a) > 0:\n",
    "            agg = abs(c / a) ** 0.5\n",
    "            ag = agg\n",
    "            ag2 = -agg\n",
    "            afk = min(ag, ag2)\n",
    "            afk2 = max(ag, ag2)\n",
    "            print(round(afk, 2), round(afk2, 2))\n",
    "\n",
    "    if a != 0 and b != 0 and c == 0:\n",
    "        print(\"{:.2f}\".format(0), \"{:.2f}\".format(round((-b / a), 2)))\n",
    "\n",
    "    if a > 1:\n",
    "        b = b / a\n",
    "        c = c / a\n",
    "        a = a / a\n",
    "\n",
    "    if a != 0 and b != 0 and c != 0:\n",
    "        d = ((b ** 2) - (4 * a * c))\n",
    "        if d < 0:\n",
    "            print('No solution')\n",
    "        elif d == 0:\n",
    "            ans1 = -b / 2 * a\n",
    "            print(\"{:.2f}\".format(round(ans1, 2)))\n",
    "        else:\n",
    "            x1 = (-b + d ** 0.5) / (2 * a)\n",
    "            x2 = (-b - d ** 0.5) / (2 * a)\n",
    "            prt1 = min(x1, x2)\n",
    "            prt2 = max(x1, x2)\n",
    "\n",
    "            if prt1 != prt2:\n",
    "                print(\"{:.2f}\".format(round(prt1, 2)), \"{:.2f}\".format(round(prt2, 2)))\n",
    "            else:\n",
    "                print(\"{:.2f}\".format(round(prt1, 2))),"
   ]
  },
  {
   "cell_type": "code",
   "execution_count": 48,
   "id": "7494a0a5",
   "metadata": {},
   "outputs": [
    {
     "name": "stdout",
     "output_type": "stream",
     "text": [
      "Enter your number:-3\n",
      "Enter your number:3\n",
      "-3 -2 -1 0 1 2 3 "
     ]
    }
   ],
   "source": [
    "a = int(input(\"Enter your number:\"))\n",
    "b = int(input(\"Enter your number:\"))\n",
    "while a != b + 1 :\n",
    "    print(a,end =\" \")\n",
    "    a+=1"
   ]
  },
  {
   "cell_type": "code",
   "execution_count": 52,
   "id": "8b6ca9a2",
   "metadata": {},
   "outputs": [
    {
     "name": "stdout",
     "output_type": "stream",
     "text": [
      "Enter your number:100\n",
      "Enter your number:500\n",
      "Enter your number:330\n",
      "Enter your number:0\n",
      "330.0\n"
     ]
    }
   ],
   "source": [
    "summa = 0\n",
    "while (x := float(input(\"Enter your number:\"))) != 0:\n",
    "    if x >= 500:\n",
    "        summa += x * 0.9\n",
    "    else :\n",
    "        summa = x\n",
    "print(summa)"
   ]
  },
  {
   "cell_type": "code",
   "execution_count": 2,
   "id": "1def7dc9",
   "metadata": {},
   "outputs": [
    {
     "name": "stdout",
     "output_type": "stream",
     "text": [
      "Enter your first number:512\n",
      "Enter your second number:625\n",
      "320000\n"
     ]
    }
   ],
   "source": [
    "a = int(input(\"Enter your first number:\"))\n",
    "b = int(input(\"Enter your second number:\"))\n",
    "n = max(a, b)\n",
    "while (n % min(a, b) != 0):\n",
    "    n += max(a, b)\n",
    "print(n)"
   ]
  },
  {
   "cell_type": "code",
   "execution_count": 5,
   "id": "7ce2b47e",
   "metadata": {},
   "outputs": [
    {
     "name": "stdout",
     "output_type": "stream",
     "text": [
      "Enter the number:5\n",
      "120\n"
     ]
    }
   ],
   "source": [
    "n = int(input(\"Enter the number:\"))\n",
    "k = 1\n",
    "element = 1\n",
    "while k != n + 1:\n",
    "    element *= k\n",
    "    k += 1\n",
    "print(element)    "
   ]
  },
  {
   "cell_type": "code",
   "execution_count": 6,
   "id": "182b72c8",
   "metadata": {},
   "outputs": [
    {
     "name": "stdout",
     "output_type": "stream",
     "text": [
      "Enter the any number:5\n",
      "15\n"
     ]
    }
   ],
   "source": [
    "n = int(input(\"Enter the any number:\"))\n",
    "k = 0\n",
    "summa = 0\n",
    "while k != n +1 :\n",
    "    summa += k\n",
    "    k += 1\n",
    "print(summa)"
   ]
  },
  {
   "cell_type": "code",
   "execution_count": 13,
   "id": "dfa2c6c8",
   "metadata": {},
   "outputs": [
    {
     "name": "stdout",
     "output_type": "stream",
     "text": [
      "Enter the any number:4\n",
      "No\n"
     ]
    }
   ],
   "source": [
    "n = int(input(\"Enter the any number:\"))\n",
    "k = 0\n",
    "q = [2,3,5,7,11,13,17,19,23,29,31,37, 41, 43, 47, 51, 53, 57, 59, 61,67,71]\n",
    "if n in q :\n",
    "    print(\"Yes\")\n",
    "for i in range(0,len(q)):\n",
    "    if n % q[i] == 0 and n not in q or n == 1:\n",
    "        k += 1\n",
    "        break       \n",
    "if k == 1:\n",
    "    print(\"No\")\n",
    "else:\n",
    "    print(\"Yes\")"
   ]
  },
  {
   "cell_type": "code",
   "execution_count": 15,
   "id": "4e7d23c7",
   "metadata": {},
   "outputs": [
    {
     "name": "stdout",
     "output_type": "stream",
     "text": [
      "Enter the palindrome :123454321\n",
      "Yes\n"
     ]
    }
   ],
   "source": [
    "n = str(input(\"Enter the palindrome :\"))\n",
    "m = n[: : -1]\n",
    "if n == m :\n",
    "    print(\"Yes\")\n",
    "else:\n",
    "    print(\"No\")"
   ]
  },
  {
   "cell_type": "code",
   "execution_count": 19,
   "id": "d6f01413",
   "metadata": {},
   "outputs": [
    {
     "name": "stdout",
     "output_type": "stream",
     "text": [
      "25700850\n",
      "575\n"
     ]
    }
   ],
   "source": [
    "n = int(input())\n",
    "q = \"\"\n",
    "while n >= 1:\n",
    "    a = n % 10\n",
    "    if a % 2 != 0: \n",
    "        q += str(a)\n",
    "    n = n // 10\n",
    "print(q[::-1])"
   ]
  },
  {
   "cell_type": "code",
   "execution_count": null,
   "id": "5a600060",
   "metadata": {},
   "outputs": [],
   "source": []
  }
 ],
 "metadata": {
  "kernelspec": {
   "display_name": "Python 3 (ipykernel)",
   "language": "python",
   "name": "python3"
  },
  "language_info": {
   "codemirror_mode": {
    "name": "ipython",
    "version": 3
   },
   "file_extension": ".py",
   "mimetype": "text/x-python",
   "name": "python",
   "nbconvert_exporter": "python",
   "pygments_lexer": "ipython3",
   "version": "3.11.5"
  }
 },
 "nbformat": 4,
 "nbformat_minor": 5
}
